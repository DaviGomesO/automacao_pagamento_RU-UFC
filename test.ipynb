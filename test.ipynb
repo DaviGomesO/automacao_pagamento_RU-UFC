{
 "cells": [
  {
   "cell_type": "markdown",
   "id": "04cc5678",
   "metadata": {},
   "source": [
    "### Passos:\n",
    "1. Criar um ambiente virtual python:\n",
    "    - <b>python -m venv nome_do_ambiente</b>\n",
    "    >obs.: Substitua \"nome_do_ambiente\" pelo nome que deseja dar ao seu ambiente virtual.\n",
    "2. Ativar o ambiente virtual criado:\n",
    "    - <b>No Windows: nome_do_ambiente\\Scripts\\activate</b>\n",
    "3. Instalar o Selenium:\n",
    "    - <b>pip install selenium</b>\n",
    "    >Obs.: Certifique-se de ter o python instalado na sua máquina.\n",
    "    <br>\n",
    "    > Vou instalar o dotenv para carregar os dados confidenciais: \n",
    "    <br>\n",
    "    ><b>pip install python-dotenv</b>\n",
    "4. Obter o driver do navegador, no caso, iremos utilizar o Chrome."
   ]
  },
  {
   "cell_type": "markdown",
   "id": "7614fc76",
   "metadata": {},
   "source": [
    "## No arquivo Python:\n",
    "\n",
    "1. Importo as bibliotecas utilizadas, no nosso caso o Selenium;"
   ]
  },
  {
   "cell_type": "code",
   "execution_count": null,
   "id": "fed2830e",
   "metadata": {},
   "outputs": [],
   "source": [
    "from selenium import webdriver\n",
    "from selenium.webdriver.chrome.service import Service\n",
    "from selenium.webdriver.chrome.options import Options\n",
    "from selenium.webdriver.common.by import By\n",
    "from selenium.webdriver.support.ui import WebDriverWait\n",
    "from selenium.webdriver.support import expected_conditions as EC\n",
    "from time import sleep\n",
    "from dotenv import load_dotenv\n",
    "import os\n",
    "import base64\n",
    "\n",
    "load_dotenv()\n",
    "num_cartao = os.getenv('NUMERO_CARTAO')\n",
    "num_matricula = os.getenv('MATRICULA')\n",
    "qtd_creditos = os.getenv('QUANTIDADE_CREDITOS')"
   ]
  },
  {
   "cell_type": "markdown",
   "id": "84853f70",
   "metadata": {},
   "source": [
    "2. Indico o driver do chrome que será utilizado, e a configuração inicial para abrir a janela maximizada;"
   ]
  },
  {
   "cell_type": "code",
   "execution_count": null,
   "id": "13ffd7b0",
   "metadata": {},
   "outputs": [],
   "source": [
    "chromedriver_exe = r'chromedriver.exe'\n",
    "options = Options()\n",
    "options.add_argument(\"start-maximized\")"
   ]
  },
  {
   "cell_type": "markdown",
   "id": "c09cd5b2",
   "metadata": {},
   "source": [
    "3. Abro o navegador e vou chamar o site que desejo fazer o teste;"
   ]
  },
  {
   "cell_type": "code",
   "execution_count": null,
   "id": "ac703513",
   "metadata": {},
   "outputs": [],
   "source": [
    "driver = webdriver.Chrome(service=Service(chromedriver_exe), options=options)\n",
    "driver.get('https://si3.ufc.br/public//jsp/restaurante_universitario/consulta_comensal_ru.jsf')"
   ]
  },
  {
   "cell_type": "markdown",
   "id": "ea2ff985",
   "metadata": {},
   "source": [
    "4. Insiro os dados nos inputs e clico no botão \"Consultar\";"
   ]
  },
  {
   "cell_type": "code",
   "execution_count": null,
   "id": "964b2461",
   "metadata": {},
   "outputs": [],
   "source": [
    "input_num_cartao = driver.find_element(by=By.XPATH, value='//*[@id=\"form\"]/table/tbody/tr[1]/td/input') \n",
    "# input_num_cartao = driver.find_element(by=By.NAME, value='form:j_id_jsp_1091681061_2')\n",
    "input_num_cartao.send_keys(num_cartao)"
   ]
  },
  {
   "cell_type": "code",
   "execution_count": null,
   "id": "10fcdcd3",
   "metadata": {},
   "outputs": [],
   "source": [
    "# input_num_matricula = driver.find_element(by=By.XPATH, value='//*[@id=\"form\"]/table/tbody/tr[2]/td/input')\n",
    "input_num_matricula = driver.find_element(by=By.NAME, value='form:j_id_jsp_1091681061_3')\n",
    "input_num_matricula.send_keys(num_matricula)"
   ]
  },
  {
   "cell_type": "code",
   "execution_count": null,
   "id": "5f6c749e",
   "metadata": {},
   "outputs": [],
   "source": [
    "sleep(5)\n",
    "botao_consultar = driver.find_element(by=By.XPATH, value='//*[@id=\"form\"]/table/tfoot/tr/td/input')\n",
    "# botao_consultar = driver.find_element(by=By.NAME, value='form:j_id_jsp_1091681061_4')\n",
    "botao_consultar.click()"
   ]
  },
  {
   "cell_type": "markdown",
   "id": "df8a6340",
   "metadata": {},
   "source": [
    "5. Insiro a quantidade de créditos e em seguida seleciona a opção de pix e cartão de crédito;"
   ]
  },
  {
   "cell_type": "markdown",
   "id": "892b00ff",
   "metadata": {},
   "source": [
    "### <!> Se usar apenas o send_keys, vai inserir concatenando as string e o input é limitado a tamanho 2, não vai inserir corretamente quando quiser inserir mais de 10 créditos.<!>"
   ]
  },
  {
   "cell_type": "code",
   "execution_count": null,
   "id": "6b104d87",
   "metadata": {},
   "outputs": [],
   "source": [
    "input_qtd_creditos = driver.find_element(by=By.ID, value='form:qtdCreditos')\n",
    "# input_qtd_creditos.send_keys(qtd_creditos)\n",
    "driver.execute_script(f\"arguments[0].value = '{qtd_creditos}';\", input_qtd_creditos)"
   ]
  },
  {
   "cell_type": "code",
   "execution_count": null,
   "id": "5d8cfb51",
   "metadata": {},
   "outputs": [],
   "source": [
    "selec_pix_credito = driver.find_element(by=By.ID, value='form:j_id_jsp_540432864_5:0')\n",
    "selec_pix_credito.click()"
   ]
  },
  {
   "cell_type": "markdown",
   "id": "3ce670e5",
   "metadata": {},
   "source": [
    "###### Se o elemento do botão de pagar não existir, vai gerar o erro de botão não interativo, por isso é ideal deixar um tempo limite para encontrar o elemento na página"
   ]
  },
  {
   "cell_type": "code",
   "execution_count": null,
   "id": "1ed92a05",
   "metadata": {},
   "outputs": [],
   "source": [
    "botao_pagar = WebDriverWait(driver, 15).until(EC.element_to_be_clickable((By.ID, \"form:btPagTesouro\")))\n",
    "botao_pagar.click()"
   ]
  },
  {
   "cell_type": "code",
   "execution_count": null,
   "id": "9695f7c5",
   "metadata": {},
   "outputs": [],
   "source": [
    "botao_confirmar_pagamento = WebDriverWait(driver, 15).until(EC.element_to_be_clickable((By.ID, \"modalForm2:btConfirmarPagtesouro\")))\n",
    "botao_confirmar_pagamento.click()"
   ]
  },
  {
   "cell_type": "markdown",
   "id": "bd50a49e",
   "metadata": {},
   "source": [
    "6. Irei alternar para o iFlame de pagamento e encontrar os elementos para interagir;"
   ]
  },
  {
   "cell_type": "markdown",
   "id": "cbe89028",
   "metadata": {},
   "source": [
    "### <!>Se não alternar para o iFlame do pagamento, não encontra os elementos na página principal.<!>"
   ]
  },
  {
   "cell_type": "code",
   "execution_count": null,
   "id": "ef3546cd",
   "metadata": {},
   "outputs": [],
   "source": [
    "# Encontre o iframe pelo nome, índice ou elemento\n",
    "iframe = driver.find_element(by=By.ID, value='iFrameResizer0')\n",
    "# Alternar para o iframe\n",
    "driver.switch_to.frame(iframe)"
   ]
  },
  {
   "cell_type": "code",
   "execution_count": null,
   "id": "7b4e243e",
   "metadata": {},
   "outputs": [],
   "source": [
    "selec_pix = driver.find_element(by=By.XPATH, value='/html/body/div[1]/div/div[3]/div[2]/div[1]/div[3]/div[1]')\n",
    "selec_pix.click()"
   ]
  },
  {
   "cell_type": "code",
   "execution_count": null,
   "id": "c34f63e6",
   "metadata": {},
   "outputs": [],
   "source": [
    "botao_pagar = driver.find_element(by=By.ID, value='btnPgto')\n",
    "botao_pagar.click()"
   ]
  },
  {
   "cell_type": "markdown",
   "id": "a3fb7330",
   "metadata": {},
   "source": [
    "7. Por fim, vou retornar o código do pix e o QR code em arquivos."
   ]
  },
  {
   "cell_type": "code",
   "execution_count": null,
   "id": "4c1cdfb9",
   "metadata": {},
   "outputs": [],
   "source": [
    "qr_code = driver.find_element(by=By.XPATH, value='//img[@class=\"qr-code-img\"]')\n",
    "src_qr_code = qr_code.get_attribute('src')\n",
    "codigo_pix = driver.find_element(by=By.XPATH,value='//*[@id=\"app\"]/div/div[5]/div[2]/div/div[2]/div/div[2]/div/div/div[2]/div/p').text"
   ]
  },
  {
   "cell_type": "code",
   "execution_count": null,
   "id": "48a36a00",
   "metadata": {},
   "outputs": [],
   "source": [
    "base = src_qr_code.replace(\"data:image/png;base64,\",\"\")\n",
    "\n",
    "# Decodifique a string base64 para bytes\n",
    "imagem_bytes = base64.b64decode(base)\n",
    "\n",
    "# Salve os bytes da imagem em um arquivo PNG\n",
    "with open(\"qr_code.png\", \"wb\") as arquivo:\n",
    "    arquivo.write(imagem_bytes)\n",
    "\n",
    "print(\"Imagem salva com sucesso como 'qr_code.png'\")\n",
    "\n",
    "# Salva o código do pix em outro arquivo txt\n",
    "with open(\"codigo_pix.txt\",\"w\") as arquivo:\n",
    "    arquivo.write(codigo_pix)\n",
    "\n",
    "print(f\"Código do Pix salvo em 'codigo_pix.txt'\")"
   ]
  },
  {
   "cell_type": "code",
   "execution_count": null,
   "id": "f9e9b5a6",
   "metadata": {},
   "outputs": [],
   "source": [
    "# Para sair do iframe e voltar para o contexto padrão da página principal\n",
    "driver.switch_to.default_content()\n",
    "driver.quit()"
   ]
  }
 ],
 "metadata": {
  "kernelspec": {
   "display_name": "Python 3 (ipykernel)",
   "language": "python",
   "name": "python3"
  },
  "language_info": {
   "codemirror_mode": {
    "name": "ipython",
    "version": 3
   },
   "file_extension": ".py",
   "mimetype": "text/x-python",
   "name": "python",
   "nbconvert_exporter": "python",
   "pygments_lexer": "ipython3",
   "version": "3.9.13"
  }
 },
 "nbformat": 4,
 "nbformat_minor": 5
}
